{
 "cells": [
  {
   "cell_type": "code",
   "execution_count": null,
   "metadata": {},
   "outputs": [],
   "source": [
    "from PIL import Image\n",
    "from feature_pca import extract_pca_features\n",
    "\n",
    "\n",
    "image_path = r\"C:\\Users\\ykirc\\Documents\\GitHub\\thesis\\experimentation\\input\\frame_0001.png\"\n",
    "image = Image.open(image_path).convert('RGB')\n",
    "features = extract_pca_features(image, model, n_components=1)\n",
    "print(\"Features shape:\", features.shape)"
   ]
  }
 ],
 "metadata": {
  "kernelspec": {
   "display_name": "tf-gpu7",
   "language": "python",
   "name": "python3"
  },
  "language_info": {
   "codemirror_mode": {
    "name": "ipython",
    "version": 3
   },
   "file_extension": ".py",
   "mimetype": "text/x-python",
   "name": "python",
   "nbconvert_exporter": "python",
   "pygments_lexer": "ipython3",
   "version": "3.9.18"
  }
 },
 "nbformat": 4,
 "nbformat_minor": 2
}
