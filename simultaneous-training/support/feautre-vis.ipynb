{
 "cells": [
  {
   "cell_type": "code",
   "execution_count": 2,
   "metadata": {},
   "outputs": [],
   "source": [
    "import numpy as np\n",
    "import torch\n",
    "import torchvision.transforms as T\n",
    "from PIL import Image\n",
    "import os\n",
    "import cv2\n",
    "import json\n",
    "import glob\n",
    "from tqdm.notebook import tqdm\n",
    "from torchvision import transforms"
   ]
  },
  {
   "cell_type": "code",
   "execution_count": 16,
   "metadata": {},
   "outputs": [
    {
     "name": "stderr",
     "output_type": "stream",
     "text": [
      "C:\\Users\\ykirc\\AppData\\Local\\Temp\\ipykernel_38836\\2482818184.py:7: FutureWarning: You are using `torch.load` with `weights_only=False` (the current default value), which uses the default pickle module implicitly. It is possible to construct malicious pickle data which will execute arbitrary code during unpickling (See https://github.com/pytorch/pytorch/blob/main/SECURITY.md#untrusted-models for more details). In a future release, the default value for `weights_only` will be flipped to `True`. This limits the functions that could be executed during unpickling. Arbitrary objects will no longer be allowed to be loaded via this mode unless they are explicitly allowlisted by the user via `torch.serialization.add_safe_globals`. We recommend you start setting `weights_only=True` for any use case where you don't have full control of the loaded file. Please open an issue on GitHub for any issues related to this experimental feature.\n",
      "  features_dict = torch.load(features_path)\n"
     ]
    },
    {
     "data": {
      "image/png": "[encoded data removed]",
      "text/plain": [
       "<Figure size 800x800 with 1 Axes>"
      ]
     },
     "metadata": {},
     "output_type": "display_data"
    }
   ],
   "source": [
    "import torch\n",
    "import matplotlib.pyplot as plt\n",
    "import numpy as np\n",
    "\n",
    "# Load the features from the .pt file\n",
    "features_path = \"C:\\\\Users\\\\ykirc\\\\Documents\\\\GitHub\\\\thesis\\\\support\\\\extracted_features\\\\extr.pt\"\n",
    "features_dict = torch.load(features_path)\n",
    "\n",
    "# Choose the image you want to visualize (e.g., the first image)\n",
    "image_key = list(features_dict.keys())[0]  # Select the first image\n",
    "\n",
    "# Extract the features corresponding to the selected image\n",
    "feature = features_dict[image_key]\n",
    "\n",
    "# Convert the feature tensor to a numpy array and normalize it for visualization\n",
    "feature_np = feature.numpy()\n",
    "\n",
    "# Rescale the features to the range [0, 1] for visualization\n",
    "feature_np = (feature_np - feature_np.min()) / (feature_np.max() - feature_np.min())\n",
    "\n",
    "# Display the feature map\n",
    "plt.figure(figsize=(8, 8))\n",
    "plt.imshow(np.mean(feature_np, axis=0))\n",
    "plt.title(f\"Feature Visualization for {image_key}\")\n",
    "plt.axis('off')\n",
    "plt.show()\n"
   ]
  },
  {
   "cell_type": "code",
   "execution_count": 13,
   "metadata": {},
   "outputs": [
    {
     "name": "stderr",
     "output_type": "stream",
     "text": [
      "C:\\Users\\ykirc\\AppData\\Local\\Temp\\ipykernel_38836\\905122223.py:7: FutureWarning: You are using `torch.load` with `weights_only=False` (the current default value), which uses the default pickle module implicitly. It is possible to construct malicious pickle data which will execute arbitrary code during unpickling (See https://github.com/pytorch/pytorch/blob/main/SECURITY.md#untrusted-models for more details). In a future release, the default value for `weights_only` will be flipped to `True`. This limits the functions that could be executed during unpickling. Arbitrary objects will no longer be allowed to be loaded via this mode unless they are explicitly allowlisted by the user via `torch.serialization.add_safe_globals`. We recommend you start setting `weights_only=True` for any use case where you don't have full control of the loaded file. Please open an issue on GitHub for any issues related to this experimental feature.\n",
      "  data = torch.load(pt_file_path)\n"
     ]
    },
    {
     "data": {
      "image/png": "[encoded data removed]",
      "text/plain": [
       "<Figure size 600x600 with 1 Axes>"
      ]
     },
     "metadata": {},
     "output_type": "display_data"
    }
   ],
   "source": [
    "import torch\n",
    "import matplotlib.pyplot as plt\n",
    "import numpy as np\n",
    "\n",
    "# Load the .pt file\n",
    "pt_file_path = \"C:\\\\Users\\\\ykirc\\\\Documents\\\\GitHub\\\\thesis\\\\support\\\\extracted_features\\\\extr.pt\"  # Replace with the actual path to your .pt file\n",
    "data = torch.load(pt_file_path)\n",
    "\n",
    "# Get the list of keys (image filenames)\n",
    "keys = list(data.keys())\n",
    "\n",
    "# Select the key of the image you want to visualize\n",
    "# For example, visualize the first image\n",
    "selected_key = keys[0]\n",
    "\n",
    "# Get the feature tensor for the selected image\n",
    "feature_tensor = data[selected_key]\n",
    "\n",
    "# To visualize the features, we'll take the mean across the channels (for example)\n",
    "# Alternatively, you can visualize specific channels or apply dimensionality reduction (PCA) if needed\n",
    "visualized_image = feature_tensor.mean(dim=0).numpy()\n",
    "\n",
    "# Normalize the visualized image for better display\n",
    "visualized_image = (visualized_image - visualized_image.min()) / (visualized_image.max() - visualized_image.min())\n",
    "\n",
    "# Plot the image\n",
    "plt.figure(figsize=(6, 6))\n",
    "plt.imshow(visualized_image, cmap=\"viridis\")\n",
    "plt.title(f\"Visualized DINO Features for {selected_key}\")\n",
    "plt.axis(\"off\")\n",
    "plt.show()\n"
   ]
  },
  {
   "cell_type": "code",
   "execution_count": 21,
   "metadata": {},
   "outputs": [
    {
     "data": {
      "text/plain": [
       "torch.Size([64, 11, 19])"
      ]
     },
     "execution_count": 21,
     "metadata": {},
     "output_type": "execute_result"
    }
   ],
   "source": [
    "# Get the list of keys (image filenames)\n",
    "keys = list(data.keys())\n",
    "\n",
    "# Select the key of the image you want to visualize\n",
    "selected_key = keys[0]\n",
    "\n",
    "# Get the feature tensor for the selected image\n",
    "feature_tensor = data[selected_key]\n",
    "feature_tensor.shape"
   ]
  },
  {
   "cell_type": "code",
   "execution_count": 24,
   "metadata": {},
   "outputs": [
    {
     "name": "stderr",
     "output_type": "stream",
     "text": [
      "C:\\Users\\ykirc\\AppData\\Local\\Temp\\ipykernel_38836\\557454948.py:9: FutureWarning: You are using `torch.load` with `weights_only=False` (the current default value), which uses the default pickle module implicitly. It is possible to construct malicious pickle data which will execute arbitrary code during unpickling (See https://github.com/pytorch/pytorch/blob/main/SECURITY.md#untrusted-models for more details). In a future release, the default value for `weights_only` will be flipped to `True`. This limits the functions that could be executed during unpickling. Arbitrary objects will no longer be allowed to be loaded via this mode unless they are explicitly allowlisted by the user via `torch.serialization.add_safe_globals`. We recommend you start setting `weights_only=True` for any use case where you don't have full control of the loaded file. Please open an issue on GitHub for any issues related to this experimental feature.\n",
      "  data = torch.load(pt_file_path)\n",
      "Clipping input data to the valid range for imshow with RGB data ([0..1] for floats or [0..255] for integers). Got range [-0.08507192..1.1434033].\n"
     ]
    },
    {
     "data": {
      "image/png": "[encoded data removed]",
      "text/plain": [
       "<Figure size 800x800 with 1 Axes>"
      ]
     },
     "metadata": {},
     "output_type": "display_data"
    }
   ],
   "source": [
    "import torch\n",
    "import matplotlib.pyplot as plt\n",
    "import numpy as np\n",
    "from sklearn.decomposition import PCA\n",
    "from scipy.ndimage import zoom\n",
    "\n",
    "# Load the .pt file\n",
    "pt_file_path = \"C:\\\\Users\\\\ykirc\\\\Documents\\\\GitHub\\\\thesis\\\\support\\\\extracted_features\\\\extr.pt\"\n",
    "data = torch.load(pt_file_path)\n",
    "\n",
    "# Get the list of keys (image filenames)\n",
    "keys = list(data.keys())\n",
    "\n",
    "# Select the key of the image you want to visualize\n",
    "selected_key = keys[0]\n",
    "\n",
    "# Get the feature tensor for the selected image\n",
    "feature_tensor = data[selected_key]\n",
    "\n",
    "# Use PCA to reduce dimensionality to 3 for RGB visualization\n",
    "C, H, W = feature_tensor.shape\n",
    "feature_tensor_flat = feature_tensor.view(C, H * W).transpose(0, 1).numpy()\n",
    "\n",
    "pca = PCA(n_components=3)\n",
    "feature_tensor_pca = pca.fit_transform(feature_tensor_flat)\n",
    "feature_tensor_pca = feature_tensor_pca.reshape(H, W, 3)\n",
    "\n",
    "# Normalize for visualization\n",
    "feature_tensor_pca -= feature_tensor_pca.min()\n",
    "feature_tensor_pca /= feature_tensor_pca.max()\n",
    "\n",
    "# Optionally, apply a zoom for better visualization\n",
    "feature_tensor_pca = zoom(feature_tensor_pca, (4, 4, 1))  # Increase size by a factor of 4\n",
    "\n",
    "# Plot the image\n",
    "plt.figure(figsize=(8, 8))\n",
    "plt.imshow(feature_tensor_pca)\n",
    "plt.title(f\"Enhanced Feature Visualization for {selected_key}\")\n",
    "plt.axis(\"off\")\n",
    "plt.show()\n"
   ]
  },
  {
   "cell_type": "code",
   "execution_count": 43,
   "metadata": {},
   "outputs": [
    {
     "name": "stderr",
     "output_type": "stream",
     "text": [
      "C:\\Users\\ykirc\\AppData\\Local\\Temp\\ipykernel_38836\\3826340798.py:9: FutureWarning: You are using `torch.load` with `weights_only=False` (the current default value), which uses the default pickle module implicitly. It is possible to construct malicious pickle data which will execute arbitrary code during unpickling (See https://github.com/pytorch/pytorch/blob/main/SECURITY.md#untrusted-models for more details). In a future release, the default value for `weights_only` will be flipped to `True`. This limits the functions that could be executed during unpickling. Arbitrary objects will no longer be allowed to be loaded via this mode unless they are explicitly allowlisted by the user via `torch.serialization.add_safe_globals`. We recommend you start setting `weights_only=True` for any use case where you don't have full control of the loaded file. Please open an issue on GitHub for any issues related to this experimental feature.\n",
      "  data = torch.load(pt_file_path)\n",
      "Clipping input data to the valid range for imshow with RGB data ([0..1] for floats or [0..255] for integers). Got range [-0.15841588..1.1918073].\n"
     ]
    },
    {
     "data": {
      "image/png": "[encoded data removed]",
      "text/plain": [
       "<Figure size 800x800 with 1 Axes>"
      ]
     },
     "metadata": {},
     "output_type": "display_data"
    }
   ],
   "source": [
    "import torch\n",
    "import matplotlib.pyplot as plt\n",
    "import numpy as np\n",
    "from sklearn.decomposition import PCA\n",
    "from scipy.ndimage import zoom\n",
    "\n",
    "# Load the .pt file\n",
    "pt_file_path = \"C:\\\\Users\\\\ykirc\\\\Documents\\\\GitHub\\\\thesis\\\\support\\\\extracted_features\\\\extr.pt\"  # Replace with the actual path to your .pt file\n",
    "data = torch.load(pt_file_path)\n",
    "\n",
    "# Get the list of keys (image filenames)\n",
    "keys = list(data.keys())\n",
    "\n",
    "# Select the key of the image you want to visualize\n",
    "selected_key = keys[0]\n",
    "\n",
    "# Get the feature tensor for the selected image\n",
    "feature_tensor = data[selected_key]\n",
    "\n",
    "# Use PCA to reduce dimensionality to 3 for RGB visualization\n",
    "C, H, W = feature_tensor.shape\n",
    "feature_tensor_flat = feature_tensor.view(C, H * W).transpose(0, 1).numpy()\n",
    "\n",
    "pca = PCA(n_components=3)\n",
    "feature_tensor_pca = pca.fit_transform(feature_tensor_flat)\n",
    "feature_tensor_pca = feature_tensor_pca.reshape(H, W, 3)\n",
    "\n",
    "# Normalize for visualization\n",
    "feature_tensor_pca -= feature_tensor_pca.min()\n",
    "feature_tensor_pca /= feature_tensor_pca.max()\n",
    "\n",
    "# Apply a threshold to remove the background\n",
    "# Here, we assume that values below the threshold are background\n",
    "threshold = 0.78 # Adjust this value based on your image\n",
    "mask = feature_tensor_pca.max(axis=-1) > threshold\n",
    "\n",
    "# Apply the mask\n",
    "feature_tensor_pca[~mask] = 1  # Set background to white\n",
    "\n",
    "# Optionally, apply a zoom for better visualization\n",
    "feature_tensor_pca = zoom(feature_tensor_pca, (4, 4, 1))  # Increase size by a factor of 4\n",
    "\n",
    "# Plot the image\n",
    "plt.figure(figsize=(8, 8))\n",
    "plt.imshow(feature_tensor_pca)\n",
    "plt.title(f\"Background Removed Visualization for {selected_key}\")\n",
    "plt.axis(\"off\")\n",
    "plt.show()\n"
   ]
  },
  {
   "cell_type": "code",
   "execution_count": 2,
   "metadata": {},
   "outputs": [
    {
     "name": "stdout",
     "output_type": "stream",
     "text": [
      "Video saved as feature_visualization_video.mp4\n"
     ]
    }
   ],
   "source": [
    "import torch\n",
    "import matplotlib.pyplot as plt\n",
    "import numpy as np\n",
    "from sklearn.decomposition import PCA\n",
    "from scipy.ndimage import zoom\n",
    "import cv2\n",
    "import os\n",
    "\n",
    "# Load the .pt file safely by setting weights_only=True\n",
    "pt_file_path = \"C:\\\\Users\\\\ykirc\\\\Desktop\\\\input-scenes\\\\0\\\\0000d51f\\\\0000d51f.pt\"\n",
    "data = torch.load(pt_file_path, weights_only=True)\n",
    "\n",
    "# Set up directories for saving images\n",
    "output_dir = \"visualized_images\"\n",
    "os.makedirs(output_dir, exist_ok=True)\n",
    "\n",
    "# Iterate through each key in the data\n",
    "for i, key in enumerate(data.keys()):\n",
    "    # Get the feature tensor for the current image\n",
    "    feature_tensor = data[key]\n",
    "\n",
    "    # Use PCA to reduce dimensionality to 3 for RGB visualization\n",
    "    C, H, W = feature_tensor.shape\n",
    "    feature_tensor_flat = feature_tensor.view(C, H * W).transpose(0, 1).numpy()\n",
    "\n",
    "    pca = PCA(n_components=3)\n",
    "    feature_tensor_pca = pca.fit_transform(feature_tensor_flat)\n",
    "    feature_tensor_pca = feature_tensor_pca.reshape(H, W, 3)\n",
    "\n",
    "    # Normalize for visualization\n",
    "    feature_tensor_pca -= feature_tensor_pca.min()\n",
    "    feature_tensor_pca /= feature_tensor_pca.max()\n",
    "\n",
    "    # Clip values to ensure they are in the range [0, 1]\n",
    "    feature_tensor_pca = np.clip(feature_tensor_pca, 0, 1)\n",
    "\n",
    "    # Convert to uint8 format for image saving\n",
    "    feature_tensor_pca = (feature_tensor_pca * 255).astype(np.uint8)\n",
    "\n",
    "    # Optionally, apply a zoom for better visualization\n",
    "    feature_tensor_pca = zoom(feature_tensor_pca, (4, 4, 1))  # Increase size by a factor of 4\n",
    "\n",
    "    # Save the image\n",
    "    image_path = os.path.join(output_dir, f\"{i:04d}.png\")\n",
    "    plt.imsave(image_path, feature_tensor_pca)\n",
    "\n",
    "# Create a video from the saved images\n",
    "video_path = \"feature_visualization_video.mp4\"\n",
    "fps = 1  # 1 frame per second\n",
    "\n",
    "# Get the size of the images\n",
    "img_array = []\n",
    "for i in range(len(data.keys())):\n",
    "    img = cv2.imread(os.path.join(output_dir, f\"{i:04d}.png\"))\n",
    "    height, width, layers = img.shape\n",
    "    size = (width, height)\n",
    "    img_array.append(img)\n",
    "\n",
    "# Write the video\n",
    "out = cv2.VideoWriter(video_path, cv2.VideoWriter_fourcc(*'mp4v'), fps, size)\n",
    "\n",
    "for img in img_array:\n",
    "    out.write(img)\n",
    "out.release()\n",
    "\n",
    "print(f\"Video saved as {video_path}\")\n"
   ]
  },
  {
   "cell_type": "code",
   "execution_count": 3,
   "metadata": {},
   "outputs": [
    {
     "name": "stdout",
     "output_type": "stream",
     "text": [
      "torch.Size([64, 58, 33])\n",
      "torch.Size([64, 58, 33])\n",
      "torch.Size([64, 58, 33])\n",
      "torch.Size([64, 58, 33])\n",
      "torch.Size([64, 58, 33])\n",
      "torch.Size([64, 58, 33])\n",
      "torch.Size([64, 58, 33])\n",
      "torch.Size([64, 58, 33])\n",
      "torch.Size([64, 58, 33])\n",
      "torch.Size([64, 58, 33])\n",
      "torch.Size([64, 58, 33])\n",
      "torch.Size([64, 58, 33])\n",
      "torch.Size([64, 58, 33])\n",
      "torch.Size([64, 58, 33])\n",
      "torch.Size([64, 58, 33])\n",
      "torch.Size([64, 58, 33])\n",
      "torch.Size([64, 58, 33])\n",
      "torch.Size([64, 58, 33])\n",
      "torch.Size([64, 58, 33])\n",
      "torch.Size([64, 58, 33])\n",
      "torch.Size([64, 58, 33])\n",
      "torch.Size([64, 58, 33])\n",
      "torch.Size([64, 58, 33])\n",
      "torch.Size([64, 58, 33])\n",
      "torch.Size([64, 58, 33])\n",
      "torch.Size([64, 58, 33])\n",
      "torch.Size([64, 58, 33])\n",
      "torch.Size([64, 58, 33])\n",
      "torch.Size([64, 58, 33])\n",
      "torch.Size([64, 58, 33])\n",
      "torch.Size([64, 58, 33])\n"
     ]
    }
   ],
   "source": [
    "pt_file_path = \"C:\\\\Users\\\\ykirc\\\\Desktop\\\\input-scenes\\\\0\\\\0000d51f\\\\0000d51f.pt\"\n",
    "data = torch.load(pt_file_path, weights_only=True)\n",
    "\n",
    "for key in data.keys():\n",
    "    print(data[key].shape)"
   ]
  },
  {
   "cell_type": "code",
   "execution_count": 5,
   "metadata": {},
   "outputs": [
    {
     "name": "stdout",
     "output_type": "stream",
     "text": [
      "torch.Size([64, 11, 19])\n",
      "torch.Size([64, 11, 19])\n",
      "torch.Size([64, 11, 19])\n",
      "torch.Size([64, 11, 19])\n",
      "torch.Size([64, 11, 19])\n",
      "torch.Size([64, 11, 19])\n",
      "torch.Size([64, 11, 19])\n",
      "torch.Size([64, 11, 19])\n",
      "torch.Size([64, 11, 19])\n",
      "torch.Size([64, 11, 19])\n",
      "torch.Size([64, 11, 19])\n",
      "torch.Size([64, 11, 19])\n",
      "torch.Size([64, 11, 19])\n",
      "torch.Size([64, 11, 19])\n",
      "torch.Size([64, 11, 19])\n",
      "torch.Size([64, 11, 19])\n",
      "torch.Size([64, 11, 19])\n",
      "torch.Size([64, 11, 19])\n",
      "torch.Size([64, 11, 19])\n",
      "torch.Size([64, 11, 19])\n",
      "torch.Size([64, 11, 19])\n",
      "torch.Size([64, 11, 19])\n",
      "torch.Size([64, 11, 19])\n",
      "torch.Size([64, 11, 19])\n",
      "torch.Size([64, 11, 19])\n",
      "torch.Size([64, 11, 19])\n",
      "torch.Size([64, 11, 19])\n",
      "torch.Size([64, 11, 19])\n",
      "torch.Size([64, 11, 19])\n",
      "torch.Size([64, 11, 19])\n",
      "torch.Size([64, 11, 19])\n",
      "torch.Size([64, 11, 19])\n",
      "torch.Size([64, 11, 19])\n",
      "torch.Size([64, 11, 19])\n",
      "torch.Size([64, 11, 19])\n",
      "torch.Size([64, 11, 19])\n",
      "torch.Size([64, 11, 19])\n",
      "torch.Size([64, 11, 19])\n",
      "torch.Size([64, 11, 19])\n",
      "torch.Size([64, 11, 19])\n",
      "torch.Size([64, 11, 19])\n",
      "torch.Size([64, 11, 19])\n",
      "torch.Size([64, 11, 19])\n",
      "torch.Size([64, 11, 19])\n",
      "torch.Size([64, 11, 19])\n",
      "torch.Size([64, 11, 19])\n",
      "torch.Size([64, 11, 19])\n",
      "torch.Size([64, 11, 19])\n",
      "torch.Size([64, 11, 19])\n",
      "torch.Size([64, 11, 19])\n",
      "torch.Size([64, 11, 19])\n",
      "torch.Size([64, 11, 19])\n",
      "torch.Size([64, 11, 19])\n",
      "torch.Size([64, 11, 19])\n",
      "torch.Size([64, 11, 19])\n",
      "torch.Size([64, 11, 19])\n",
      "torch.Size([64, 11, 19])\n",
      "torch.Size([64, 11, 19])\n",
      "torch.Size([64, 11, 19])\n",
      "torch.Size([64, 11, 19])\n",
      "torch.Size([64, 11, 19])\n",
      "torch.Size([64, 11, 19])\n",
      "torch.Size([64, 11, 19])\n",
      "torch.Size([64, 11, 19])\n",
      "torch.Size([64, 11, 19])\n",
      "torch.Size([64, 11, 19])\n",
      "torch.Size([64, 11, 19])\n",
      "torch.Size([64, 11, 19])\n"
     ]
    }
   ],
   "source": [
    "pt_file_path = \"C:\\\\Users\\\\ykirc\\\\Desktop\\\\extr\\\\dino.pt\"\n",
    "data = torch.load(pt_file_path, weights_only=True)\n",
    "\n",
    "for key in data.keys():\n",
    "    print(data[key].shape)"
   ]
  },
  {
   "cell_type": "code",
   "execution_count": null,
   "metadata": {},
   "outputs": [],
   "source": []
  }
 ],
 "metadata": {
  "kernelspec": {
   "display_name": "tf-gpu",
   "language": "python",
   "name": "python3"
  },
  "language_info": {
   "codemirror_mode": {
    "name": "ipython",
    "version": 3
   },
   "file_extension": ".py",
   "mimetype": "text/x-python",
   "name": "python",
   "nbconvert_exporter": "python",
   "pygments_lexer": "ipython3",
   "version": "3.9.18"
  }
 },
 "nbformat": 4,
 "nbformat_minor": 2
}
